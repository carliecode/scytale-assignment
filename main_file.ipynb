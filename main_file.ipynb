{
 "cells": [
  {
   "cell_type": "code",
   "execution_count": 1,
   "id": "2987458d-79c3-4bd5-b140-9cbc29ba44d9",
   "metadata": {},
   "outputs": [
    {
     "name": "stdout",
     "output_type": "stream",
     "text": [
      "\n",
      "Initializing the Github - Data Extrcator ...\n",
      "Initialization completed successfuly !\n",
      "\n",
      "Contacting Github for repos and PRs information ...\n",
      "Github PRs have been extracted successfully!\n",
      "Files have been downloaded to /home/jovyan/scytale-assignment/extracted_json_files/\n",
      "Transformation and cleaning of PR data has started ...\n",
      "Transformation and data cleaning has completed !\n",
      "\n",
      "Output file location is : /home/jovyan/scytale-assignment/extracted_json_files/ouput_file\n",
      "\n",
      "The application has exited successfully\n"
     ]
    }
   ],
   "source": [
    "from github_data_transformer import Github_Data_Transformer\n",
    "\n",
    "handler = Github_Data_Transformer()\n",
    "\n",
    "handler.extract_github_data()\n",
    "handler.clean_transforn_data()\n",
    "handler.save_as_parquet()"
   ]
  },
  {
   "cell_type": "code",
   "execution_count": null,
   "id": "8b28d458-6f14-4a62-ae9b-9c15bfb0a6e8",
   "metadata": {},
   "outputs": [],
   "source": []
  }
 ],
 "metadata": {
  "kernelspec": {
   "display_name": "Python 3 (ipykernel)",
   "language": "python",
   "name": "python3"
  },
  "language_info": {
   "codemirror_mode": {
    "name": "ipython",
    "version": 3
   },
   "file_extension": ".py",
   "mimetype": "text/x-python",
   "name": "python",
   "nbconvert_exporter": "python",
   "pygments_lexer": "ipython3",
   "version": "3.11.6"
  }
 },
 "nbformat": 4,
 "nbformat_minor": 5
}
